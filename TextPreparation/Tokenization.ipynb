{
 "cells": [
  {
   "cell_type": "markdown",
   "id": "8b4faf55",
   "metadata": {},
   "source": [
    "### Tokenization"
   ]
  },
  {
   "cell_type": "markdown",
   "id": "c560192d",
   "metadata": {},
   "source": [
    "### Using the .split() function of Python"
   ]
  },
  {
   "cell_type": "code",
   "execution_count": 1,
   "id": "3521f4c4",
   "metadata": {},
   "outputs": [
    {
     "data": {
      "text/plain": [
       "['I', 'am', 'going', 'to', 'Delhi']"
      ]
     },
     "execution_count": 1,
     "metadata": {},
     "output_type": "execute_result"
    }
   ],
   "source": [
    "## Word Tokenization\n",
    "sent1 = 'I am going to Delhi'\n",
    "sent1.split()"
   ]
  },
  {
   "cell_type": "code",
   "execution_count": 2,
   "id": "fe2a3691",
   "metadata": {},
   "outputs": [
    {
     "data": {
      "text/plain": [
       "['I am going to Delhi', ' I will Stay with my Friends there', '']"
      ]
     },
     "execution_count": 2,
     "metadata": {},
     "output_type": "execute_result"
    }
   ],
   "source": [
    "### Sentence Tokenization on '.'\n",
    "\n",
    "sent2 = 'I am going to Delhi. I will Stay with my Friends there.'\n",
    "sent2.split('.')"
   ]
  },
  {
   "cell_type": "code",
   "execution_count": 5,
   "id": "87233ad0",
   "metadata": {},
   "outputs": [
    {
     "data": {
      "text/plain": [
       "['I', 'am', 'going', 'to', 'Delhi!', 'but', 'Delhi', 'is', 'capital']"
      ]
     },
     "execution_count": 5,
     "metadata": {},
     "output_type": "execute_result"
    }
   ],
   "source": [
    "### Problems with split Function\n",
    "sent3 = 'I am going to Delhi! but Delhi is capital' ## it will have ! in the word tokenization which will increase the complexity.\n",
    "## Delhi! and Delhi are being considered as two words with same meaning which increases the complexity.\n",
    "sent3.split()"
   ]
  },
  {
   "cell_type": "code",
   "execution_count": 7,
   "id": "17265364",
   "metadata": {},
   "outputs": [
    {
     "data": {
      "text/plain": [
       "['Where do you think i should go? Next holiday']"
      ]
     },
     "execution_count": 7,
     "metadata": {},
     "output_type": "execute_result"
    }
   ],
   "source": [
    "sent4 = 'Where do you think i should go? Next holiday'\n",
    "sent4.split('.') ## did not split the sentences. our split function works for one thing only."
   ]
  },
  {
   "cell_type": "markdown",
   "id": "0d9f02cf",
   "metadata": {},
   "source": [
    "### Using Regex"
   ]
  },
  {
   "cell_type": "code",
   "execution_count": 8,
   "id": "7ca01e1e",
   "metadata": {},
   "outputs": [
    {
     "data": {
      "text/plain": [
       "['I', 'am', 'going', 'to', 'Delhi']"
      ]
     },
     "execution_count": 8,
     "metadata": {},
     "output_type": "execute_result"
    }
   ],
   "source": [
    "import re\n",
    "sent3 = 'I am going to Delhi!'\n",
    "tokens = re.findall(\"[\\w']+\",sent3)\n",
    "tokens ## we will need to find different kind of patterns for sentences which causes issues."
   ]
  },
  {
   "cell_type": "markdown",
   "id": "01f480da",
   "metadata": {},
   "source": [
    "### Using NLTK Library"
   ]
  },
  {
   "cell_type": "code",
   "execution_count": 9,
   "id": "4ff182fb",
   "metadata": {},
   "outputs": [],
   "source": [
    "from nltk.tokenize import word_tokenize,sent_tokenize"
   ]
  },
  {
   "cell_type": "code",
   "execution_count": 11,
   "id": "3bc73ae6",
   "metadata": {},
   "outputs": [
    {
     "data": {
      "text/plain": [
       "['I', 'am', 'going', 'to', 'visit', 'Delhi', '!']"
      ]
     },
     "execution_count": 11,
     "metadata": {},
     "output_type": "execute_result"
    }
   ],
   "source": [
    "sent1 = 'I am going to visit Delhi!'\n",
    "word_tokenize(sent1) ## this handled the ! as well which was not handled properly with regex"
   ]
  },
  {
   "cell_type": "code",
   "execution_count": 13,
   "id": "46595bd6",
   "metadata": {},
   "outputs": [
    {
     "data": {
      "text/plain": [
       "['Where do you think i should go?', 'Next holiday']"
      ]
     },
     "execution_count": 13,
     "metadata": {},
     "output_type": "execute_result"
    }
   ],
   "source": [
    "sent_tokenize(sent4) ## automatically detected the sentence after ? "
   ]
  },
  {
   "cell_type": "code",
   "execution_count": 14,
   "id": "aba28fb6",
   "metadata": {},
   "outputs": [
    {
     "data": {
      "text/plain": [
       "['I', 'have', 'a', 'Phd', 'in', 'A.I']"
      ]
     },
     "execution_count": 14,
     "metadata": {},
     "output_type": "execute_result"
    }
   ],
   "source": [
    "word_tokenize('I have a Phd in A.I') ## took A.I as a single word"
   ]
  },
  {
   "cell_type": "code",
   "execution_count": 15,
   "id": "55f0951b",
   "metadata": {},
   "outputs": [
    {
     "data": {
      "text/plain": [
       "['We',\n",
       " \"'re\",\n",
       " 'here',\n",
       " 'to',\n",
       " 'help',\n",
       " '!',\n",
       " 'please',\n",
       " 'email',\n",
       " 'at',\n",
       " 'vikrantyadav',\n",
       " '@',\n",
       " 'gmail.com']"
      ]
     },
     "execution_count": 15,
     "metadata": {},
     "output_type": "execute_result"
    }
   ],
   "source": [
    "## Problem with NLTK\n",
    "word_tokenize(\"We're here to help! please email at vikrantyadav@gmail.com\") ## Issues at email id and we're split"
   ]
  },
  {
   "cell_type": "markdown",
   "id": "49818cf9",
   "metadata": {},
   "source": [
    "### Using Spacy maybe best"
   ]
  },
  {
   "cell_type": "code",
   "execution_count": 20,
   "id": "9fadd096",
   "metadata": {},
   "outputs": [],
   "source": [
    "sent5 = 'I have a Ph.D in A.I'\n",
    "sent6 = \"We're here to help! please email at vikrantyadav@gmail.com\"\n",
    "import spacy \n",
    "nlp = spacy.load('en_core_web_sm')\n",
    "\n",
    "doc1 = nlp(sent5)\n",
    "doc2 = nlp(sent6)"
   ]
  },
  {
   "cell_type": "code",
   "execution_count": 21,
   "id": "535b7c40",
   "metadata": {},
   "outputs": [
    {
     "name": "stdout",
     "output_type": "stream",
     "text": [
      "I\n",
      "have\n",
      "a\n",
      "Ph\n",
      ".\n",
      "D\n",
      "in\n",
      "A.I\n"
     ]
    }
   ],
   "source": [
    "for token in doc1:\n",
    "    print(token) ## It failed here as it separated Ph . D"
   ]
  },
  {
   "cell_type": "code",
   "execution_count": 19,
   "id": "272dbf9a",
   "metadata": {},
   "outputs": [
    {
     "name": "stdout",
     "output_type": "stream",
     "text": [
      "We\n",
      "'re\n",
      "here\n",
      "to\n",
      "help\n",
      "!\n",
      "please\n",
      "email\n",
      "at\n",
      "vikrantyadav@gmail.com\n"
     ]
    }
   ],
   "source": [
    "for token in doc2:\n",
    "    print(token) ## it takes care of the problem we had with NLTK"
   ]
  },
  {
   "cell_type": "code",
   "execution_count": 22,
   "id": "29f31812",
   "metadata": {},
   "outputs": [],
   "source": [
    "### Techniques are not foolproof but spacy is said to be the best."
   ]
  },
  {
   "cell_type": "code",
   "execution_count": null,
   "id": "bffc5d57",
   "metadata": {},
   "outputs": [],
   "source": []
  }
 ],
 "metadata": {
  "kernelspec": {
   "display_name": "Python 3",
   "language": "python",
   "name": "python3"
  },
  "language_info": {
   "codemirror_mode": {
    "name": "ipython",
    "version": 3
   },
   "file_extension": ".py",
   "mimetype": "text/x-python",
   "name": "python",
   "nbconvert_exporter": "python",
   "pygments_lexer": "ipython3",
   "version": "3.10.0"
  }
 },
 "nbformat": 4,
 "nbformat_minor": 5
}
